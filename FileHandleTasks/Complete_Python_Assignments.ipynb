{
 "cells": [
  {
   "cell_type": "code",
   "execution_count": 1,
   "id": "9fa73d20-1493-4f23-9644-8768d045dbf4",
   "metadata": {},
   "outputs": [],
   "source": [
    "x = \"ab8de5\"\n",
    "y = ['g','h','a','b','e','5']"
   ]
  },
  {
   "cell_type": "code",
   "execution_count": null,
   "id": "161cfc31-ff5f-4135-b179-30c1668b0e36",
   "metadata": {},
   "outputs": [],
   "source": [
    "#1. Combine x and y in one ds"
   ]
  },
  {
   "cell_type": "code",
   "execution_count": 2,
   "id": "55fbb16f-19a1-47bf-a2ab-e0e7efec3290",
   "metadata": {},
   "outputs": [
    {
     "name": "stdout",
     "output_type": "stream",
     "text": [
      "['a', 'b', '8', 'd', 'e', '5', 'g', 'h', 'a', 'b', 'e', '5']\n"
     ]
    }
   ],
   "source": [
    "combined_List=list(x)+y\n",
    "print(combined_List)"
   ]
  },
  {
   "cell_type": "code",
   "execution_count": null,
   "id": "75cdcffa-2e4e-4844-a928-75cc3ab47155",
   "metadata": {},
   "outputs": [],
   "source": []
  },
  {
   "cell_type": "code",
   "execution_count": 24,
   "id": "c76b484f-1bb4-46c2-8a8f-4a029527d6d0",
   "metadata": {},
   "outputs": [],
   "source": [
    "\n",
    "# 2. eliminate repeating elements"
   ]
  },
  {
   "cell_type": "code",
   "execution_count": 6,
   "id": "bddef9cc-c54c-4aac-85bc-147cc0212c24",
   "metadata": {},
   "outputs": [
    {
     "name": "stdout",
     "output_type": "stream",
     "text": [
      "{'b', 'h', 'g', 'd', 'a', 'e', '5', '8'}\n"
     ]
    }
   ],
   "source": [
    "temp=set(combined_List)\n",
    "print(temp)"
   ]
  },
  {
   "cell_type": "code",
   "execution_count": 16,
   "id": "6fb29a19-ced1-4147-94f9-0664cd694027",
   "metadata": {},
   "outputs": [
    {
     "name": "stdout",
     "output_type": "stream",
     "text": [
      "{'b', 'h', 'g', 'd', 'a', 'e', '5', '8'}\n"
     ]
    }
   ],
   "source": [
    "def remove_repeat(combined_List):\n",
    "    unique_list=set(combined_List)\n",
    "    return unique_list\n",
    "\n",
    "result=remove_repeat(combined_List)\n",
    "print(result)"
   ]
  },
  {
   "cell_type": "code",
   "execution_count": null,
   "id": "68bb9fb5-9166-4268-8fd8-7d572b08e8b2",
   "metadata": {},
   "outputs": [],
   "source": []
  },
  {
   "cell_type": "code",
   "execution_count": null,
   "id": "c92c19e1-4b28-4f11-a205-35730c99ac9f",
   "metadata": {},
   "outputs": [],
   "source": [
    "#3. Try to get this output: heb8"
   ]
  },
  {
   "cell_type": "code",
   "execution_count": 25,
   "id": "2e486fd1-4554-4022-abc6-2d623a743ff9",
   "metadata": {},
   "outputs": [
    {
     "name": "stdout",
     "output_type": "stream",
     "text": [
      "heb8\n"
     ]
    }
   ],
   "source": [
    "result = y[1] + y[-2] + x[1] + x[2]\n",
    "print(result)"
   ]
  },
  {
   "cell_type": "code",
   "execution_count": null,
   "id": "2e069e63-4c09-450f-9035-3444804c8e04",
   "metadata": {},
   "outputs": [],
   "source": []
  },
  {
   "cell_type": "code",
   "execution_count": 26,
   "id": "73de47d1-2325-44a1-8622-dc2e3cf3aeea",
   "metadata": {},
   "outputs": [
    {
     "name": "stdout",
     "output_type": "stream",
     "text": [
      "['a', 'b', '8', 'd', 'e', '5', 'g', 'h', 'a', 'b', 'e', '5']\n",
      "['a', 'b', '8', 'd', 'e', '5', 'g', 'h']\n",
      "heb8\n"
     ]
    }
   ],
   "source": [
    "x_temp = list(x)\n",
    "for i in y:\n",
    "    x_temp.append(i)\n",
    "\n",
    "print(x_temp)\n",
    "unique = []\n",
    "\n",
    "for element in x_temp:\n",
    "    if element in unique:\n",
    "        pass\n",
    "    else:\n",
    "        unique.append(element)\n",
    "\n",
    "print(unique)\n",
    "\n",
    "unique.sort(reverse=True)\n",
    "\n",
    "\n",
    "temp = ''\n",
    "for i in unique[0::2]:\n",
    "    temp+=i\n",
    "print(temp)"
   ]
  },
  {
   "cell_type": "code",
   "execution_count": null,
   "id": "fb4da015-d468-4001-a1f2-8edd4bc9383d",
   "metadata": {},
   "outputs": [],
   "source": []
  },
  {
   "cell_type": "code",
   "execution_count": null,
   "id": "336fc878-c6c7-4d2f-85fb-f96906652bd3",
   "metadata": {},
   "outputs": [],
   "source": [
    "#4 Separate the digits and alphabets into\n",
    "# 5 two different lists and find the sum\n",
    "# 6 of square roots of each digit"
   ]
  },
  {
   "cell_type": "code",
   "execution_count": 27,
   "id": "617cc51e-e77c-4d09-bfa5-c82ad00566dd",
   "metadata": {},
   "outputs": [
    {
     "name": "stdout",
     "output_type": "stream",
     "text": [
      "digit list : ['1', '4', '9', '9', '1', '4']\n",
      "Alpha list:  ['a', 'b', 'c', 'd', 'e', 'f', 'g']\n",
      "Sum of Square root: 12.0 \n"
     ]
    }
   ],
   "source": [
    "import math\n",
    "a = \"1a4b9c9d1e4fg\"\n",
    "\n",
    "digit_list= []\n",
    "alph_list = []\n",
    "\n",
    "for element in a:\n",
    "    if element.isnumeric():\n",
    "        digit_list.append(element)\n",
    "    else:\n",
    "        alph_list.append(element)\n",
    "\n",
    "print(\"digit list :\",digit_list)\n",
    "print(\"Alpha list: \",alph_list)\n",
    "\n",
    "sum_of_squre_root = 0\n",
    "\n",
    "for i in digit_list:\n",
    "    sum_of_squre_root= sum_of_squre_root + math.sqrt(int(i))\n",
    "print(\"Sum of Square root: {} \".format(sum_of_squre_root))\n",
    "\n"
   ]
  },
  {
   "cell_type": "code",
   "execution_count": null,
   "id": "83c586c9-8b83-42da-b23e-bafc12ba0f7c",
   "metadata": {},
   "outputs": [],
   "source": []
  },
  {
   "cell_type": "code",
   "execution_count": null,
   "id": "034c04be-57f3-4bda-ad4e-ee1c8c7ccc0d",
   "metadata": {},
   "outputs": [],
   "source": [
    "# 7 find the  frequency of each element in the list"
   ]
  },
  {
   "cell_type": "code",
   "execution_count": 28,
   "id": "b920c8f8-152b-4920-9608-5b45898a5e74",
   "metadata": {},
   "outputs": [
    {
     "name": "stdout",
     "output_type": "stream",
     "text": [
      "Frequency : {1: 3, 2: 1, 3: 2, 4: 2, 5: 1}\n"
     ]
    }
   ],
   "source": [
    "a = [1, 1, 2, 1, 3, 4, 5, 4, 3]\n",
    "\n",
    "d = {}\n",
    "\n",
    "for element in a:\n",
    "    if element in d:\n",
    "        d[element]+=1\n",
    "    else:\n",
    "        d[element]=1\n",
    "print(\"Frequency : {}\".format(d))"
   ]
  },
  {
   "cell_type": "code",
   "execution_count": null,
   "id": "dff59479-bb64-4489-93d9-3048e9c4d4b0",
   "metadata": {},
   "outputs": [],
   "source": []
  },
  {
   "cell_type": "code",
   "execution_count": null,
   "id": "9ad2a905-1457-4045-8a40-61311c9ddeff",
   "metadata": {},
   "outputs": [],
   "source": [
    "# 8 Program to find the maximum element in a list"
   ]
  },
  {
   "cell_type": "code",
   "execution_count": 1,
   "id": "de640dfe-d203-47a7-bc2b-b737827ac337",
   "metadata": {},
   "outputs": [
    {
     "name": "stdout",
     "output_type": "stream",
     "text": [
      "8765\n"
     ]
    }
   ],
   "source": [
    "number_List=[41,852,741,963,7,85,46,789,41,52,63,456,8765]\n",
    "max=number_List[0]\n",
    "for num in number_List:\n",
    "    if max < num:\n",
    "        max=num\n",
    "\n",
    "print(max)\n",
    "    "
   ]
  },
  {
   "cell_type": "code",
   "execution_count": null,
   "id": "00539422-fded-4852-98cf-d63de56d9598",
   "metadata": {},
   "outputs": [],
   "source": []
  },
  {
   "cell_type": "code",
   "execution_count": null,
   "id": "8de91723-2c2e-4d4d-9bed-75c5d2a40e96",
   "metadata": {},
   "outputs": [],
   "source": [
    "# 9 add even numbered indexes to the total"
   ]
  },
  {
   "cell_type": "code",
   "execution_count": 8,
   "id": "f4ad33d4-807c-4fcc-ab3d-360e73487bf4",
   "metadata": {},
   "outputs": [
    {
     "name": "stdout",
     "output_type": "stream",
     "text": [
      "9\n"
     ]
    }
   ],
   "source": [
    "def sum_index_even(lst):\n",
    "    total = 0\n",
    "    for index, value in enumerate (lst):\n",
    "        if index % 2 ==0 :\n",
    "            total+=value\n",
    "    return total\n",
    "\n",
    "list=[1,2,3,4,5,6]\n",
    "result=sum_index_even(list)\n",
    "print(result)\n",
    "            "
   ]
  },
  {
   "cell_type": "code",
   "execution_count": null,
   "id": "1470bb67-9c1f-4cce-b32e-1a55f140f097",
   "metadata": {},
   "outputs": [],
   "source": []
  },
  {
   "cell_type": "code",
   "execution_count": null,
   "id": "c9b5ea44-897c-449a-979c-3b765b0b807a",
   "metadata": {},
   "outputs": [],
   "source": [
    "# 10.subtract odd numbered indexes from the total"
   ]
  },
  {
   "cell_type": "code",
   "execution_count": null,
   "id": "73d163f8-4f1b-46c7-8023-c8f4381aa2f7",
   "metadata": {},
   "outputs": [],
   "source": []
  },
  {
   "cell_type": "code",
   "execution_count": null,
   "id": "74d42da8-217c-4a6d-842f-11a0295a41d8",
   "metadata": {},
   "outputs": [],
   "source": []
  },
  {
   "cell_type": "code",
   "execution_count": null,
   "id": "8f0bfb74-6239-45de-a605-74a2348cf7e0",
   "metadata": {},
   "outputs": [],
   "source": []
  },
  {
   "cell_type": "code",
   "execution_count": null,
   "id": "f8c6c100-51db-457b-aa76-3ea729c638b7",
   "metadata": {},
   "outputs": [],
   "source": []
  },
  {
   "cell_type": "code",
   "execution_count": null,
   "id": "55ac8561-1375-485a-be92-6f88d632381c",
   "metadata": {},
   "outputs": [],
   "source": []
  },
  {
   "cell_type": "code",
   "execution_count": null,
   "id": "46133ad4-a6f2-4b6f-bf23-0ace62ef968b",
   "metadata": {},
   "outputs": [],
   "source": []
  },
  {
   "cell_type": "code",
   "execution_count": null,
   "id": "9766b8a7-6c09-4364-9190-37ebec7ad138",
   "metadata": {},
   "outputs": [],
   "source": []
  },
  {
   "cell_type": "code",
   "execution_count": null,
   "id": "1bcb8afe-33cc-4492-b032-bff10eef2639",
   "metadata": {},
   "outputs": [],
   "source": []
  },
  {
   "cell_type": "code",
   "execution_count": null,
   "id": "90ccf70d-5bc5-4d32-84d3-20601146a05f",
   "metadata": {},
   "outputs": [],
   "source": []
  },
  {
   "cell_type": "code",
   "execution_count": null,
   "id": "11544036-7c85-4af9-8312-5550debd6a0c",
   "metadata": {},
   "outputs": [],
   "source": []
  },
  {
   "cell_type": "code",
   "execution_count": null,
   "id": "60ba9b95-d2de-4c82-9372-78dc783ab057",
   "metadata": {},
   "outputs": [],
   "source": []
  },
  {
   "cell_type": "code",
   "execution_count": null,
   "id": "7a47c576-0643-4a9e-9330-ba19d5c836d2",
   "metadata": {},
   "outputs": [],
   "source": []
  },
  {
   "cell_type": "code",
   "execution_count": null,
   "id": "71e534ea-c3d0-451c-8789-0e0f021a5ab1",
   "metadata": {},
   "outputs": [],
   "source": []
  },
  {
   "cell_type": "code",
   "execution_count": null,
   "id": "b65944a8-adb3-45f1-8bda-3458ab5ea7f3",
   "metadata": {},
   "outputs": [],
   "source": []
  },
  {
   "cell_type": "code",
   "execution_count": null,
   "id": "54164dd2-4761-492f-8ff8-1be9bc659767",
   "metadata": {},
   "outputs": [],
   "source": []
  }
 ],
 "metadata": {
  "kernelspec": {
   "display_name": "Python 3 (ipykernel)",
   "language": "python",
   "name": "python3"
  },
  "language_info": {
   "codemirror_mode": {
    "name": "ipython",
    "version": 3
   },
   "file_extension": ".py",
   "mimetype": "text/x-python",
   "name": "python",
   "nbconvert_exporter": "python",
   "pygments_lexer": "ipython3",
   "version": "3.12.4"
  }
 },
 "nbformat": 4,
 "nbformat_minor": 5
}
