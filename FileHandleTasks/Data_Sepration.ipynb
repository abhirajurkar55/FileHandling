{
 "cells": [
  {
   "cell_type": "code",
   "execution_count": null,
   "id": "55852c1f-6eb7-456b-92f2-63a775e5861e",
   "metadata": {},
   "outputs": [],
   "source": []
  },
  {
   "cell_type": "code",
   "execution_count": 29,
   "id": "2230caed-b4f3-4ddf-a4cf-a2b4ee374948",
   "metadata": {
    "scrolled": true
   },
   "outputs": [
    {
     "data": {
      "text/plain": [
       "['first line sdfjkbsdfjk fsd kfnksnfksjdnfks  9823893006 kjdnkjfbkjf skf mnwe bfjwebfkjwe  kjwe wkjbkjwebrkjwebrjhwbj  test@gmail.com\\n\\newfjkbwekjfbwek sample@gmail.om wkjfbwekjfbwekf sonali@gmail.com 8329370756 4343432432423423432 234234324324324 2342342343423423423 kjfbadkjfb bedf \\nfekjbdjkbdjkf wf  efolwenfke kj.kj.girengaergkj.glkaer aekr bdajh,vmen we oiwneflkenfkj.fkjwe wm, wDJH,VSDJCH kjnjknkjbkj TEST@yahoo.com\\n\\nKANTIALCHANDRE1@gmail.com lewafbkjwebfiuwebfkjwe mnwef iwenfkewkjfwe wemnfwe fjkwe e we fk.flflnwefklefjkwe48234yu9324982349832y9823y  432o4y3iy32984y32894y98 \\nsecond line\\nthird line\\nfourth line']"
      ]
     },
     "execution_count": 29,
     "metadata": {},
     "output_type": "execute_result"
    }
   ],
   "source": [
    "data"
   ]
  },
  {
   "cell_type": "code",
   "execution_count": 40,
   "id": "cded4caa-5e44-4dd4-ab52-694a4e836a58",
   "metadata": {},
   "outputs": [
    {
     "name": "stdout",
     "output_type": "stream",
     "text": [
      "Sorted Mobile Numbers:\n",
      "['8329370756', '9823893006']\n",
      "\n",
      "Sorted Emails:\n",
      "['KANTIALCHANDRE1@gmail.com', 'TEST@yahoo.com', 'sonali@gmail.com', 'test@gmail.com']\n",
      "\n",
      "Remaining Raw Data:\n",
      "first line sdfjkbsdfjk fsd kfnksnfksjdnfks kjdnkjfbkjf skf mnwe bfjwebfkjwe kjwe wkjbkjwebrkjwebrjhwbj ewfjkbwekjfbwek sample@gmail.om wkjfbwekjfbwekf 4343432432423423432 234234324324324 2342342343423423423 kjfbadkjfb bedf fekjbdjkbdjkf wf efolwenfke kj.kj.girengaergkj.glkaer aekr bdajh,vmen we oiwneflkenfkj.fkjwe wm, wDJH,VSDJCH kjnjknkjbkj lewafbkjwebfiuwebfkjwe mnwef iwenfkewkjfwe wemnfwe fjkwe e we fk.flflnwefklefjkwe48234yu9324982349832y9823y 432o4y3iy32984y32894y98 second line third line fourth line\n"
     ]
    }
   ],
   "source": [
    "with open('tttt.txt','r')as fp:\n",
    "    content=fp.read()\n",
    "\n",
    "data=[content]\n",
    "\n",
    "def findNumber(data):\n",
    "    mobile_number = []\n",
    "    for number in data: \n",
    "        if len(number) == 10 and number.isnumeric():\n",
    "            mobile_number.append(number)\n",
    "    return sorted(mobile_number)\n",
    "\n",
    "def findEmails(data):\n",
    "    emails = []\n",
    "    for email in data:\n",
    "        if email.endswith(\".com\"):\n",
    "            emails.append(email)\n",
    "    return sorted(emails)\n",
    "\n",
    "def rawData(data, mobile_numbers, emails):\n",
    "    dataRemains = []\n",
    "    for item in data:\n",
    "        if item not in mobile_numbers and item not in emails:\n",
    "            dataRemains.append(item)\n",
    "    return dataRemains  \n",
    "\n",
    "def main():\n",
    "    \n",
    "    cleaned_data = \" \".join(data).replace(\"\\n\", \" \").split()\n",
    "\n",
    "    \n",
    "    mobile_numbers = findNumber(cleaned_data)\n",
    "    emails = findEmails(cleaned_data)\n",
    "\n",
    "   \n",
    "    remaining_raw_data = rawData(cleaned_data, mobile_numbers, emails)\n",
    "\n",
    " \n",
    "    print(\"Sorted Mobile Numbers:\")\n",
    "    print(mobile_numbers)\n",
    "    print(\"\\nSorted Emails:\")\n",
    "    print(emails)\n",
    "    print(\"\\nRemaining Raw Data:\")\n",
    "    print(\" \".join(remaining_raw_data))\n",
    "\n",
    "\n",
    "if __name__ == \"__main__\":\n",
    "    main()"
   ]
  },
  {
   "cell_type": "code",
   "execution_count": 43,
   "id": "984b530c-13cd-4df2-b90d-4654321cc3bf",
   "metadata": {},
   "outputs": [],
   "source": []
  },
  {
   "cell_type": "code",
   "execution_count": null,
   "id": "b9c1002b-0b82-4358-a69f-af92853245e9",
   "metadata": {},
   "outputs": [],
   "source": []
  },
  {
   "cell_type": "code",
   "execution_count": null,
   "id": "826aec12-827a-4955-a1a1-8abfd5f2fb5e",
   "metadata": {},
   "outputs": [],
   "source": []
  },
  {
   "cell_type": "code",
   "execution_count": null,
   "id": "5ca4d4a0-4451-4562-9eee-d0dbd3ed4c15",
   "metadata": {},
   "outputs": [],
   "source": []
  },
  {
   "cell_type": "code",
   "execution_count": null,
   "id": "274652a0-d86e-4076-9ac4-147c28ddd7f0",
   "metadata": {},
   "outputs": [],
   "source": []
  },
  {
   "cell_type": "code",
   "execution_count": null,
   "id": "5513ac8a-1d09-411c-9144-789103e78c35",
   "metadata": {},
   "outputs": [],
   "source": []
  },
  {
   "cell_type": "code",
   "execution_count": null,
   "id": "e6253c37-ee13-4cf2-b636-4d654dc41f85",
   "metadata": {},
   "outputs": [],
   "source": []
  },
  {
   "cell_type": "code",
   "execution_count": null,
   "id": "1edd47a8-5863-4a3b-b540-8cce4ad99f9d",
   "metadata": {},
   "outputs": [],
   "source": []
  },
  {
   "cell_type": "code",
   "execution_count": null,
   "id": "28d37b05-93dd-43c0-afb5-19aa06140c13",
   "metadata": {},
   "outputs": [],
   "source": []
  },
  {
   "cell_type": "code",
   "execution_count": null,
   "id": "f2528c74-ee31-4671-8aa2-fe5080601a7a",
   "metadata": {},
   "outputs": [],
   "source": []
  },
  {
   "cell_type": "code",
   "execution_count": null,
   "id": "f488b542-88da-47ee-abf4-f0f436c8fc28",
   "metadata": {},
   "outputs": [],
   "source": []
  },
  {
   "cell_type": "code",
   "execution_count": null,
   "id": "edcc22f0-295d-48ce-bfa0-f4e7f9c74de1",
   "metadata": {},
   "outputs": [],
   "source": []
  }
 ],
 "metadata": {
  "kernelspec": {
   "display_name": "Python 3 (ipykernel)",
   "language": "python",
   "name": "python3"
  },
  "language_info": {
   "codemirror_mode": {
    "name": "ipython",
    "version": 3
   },
   "file_extension": ".py",
   "mimetype": "text/x-python",
   "name": "python",
   "nbconvert_exporter": "python",
   "pygments_lexer": "ipython3",
   "version": "3.12.4"
  }
 },
 "nbformat": 4,
 "nbformat_minor": 5
}
