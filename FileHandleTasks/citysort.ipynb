{
 "cells": [
  {
   "cell_type": "code",
   "execution_count": 21,
   "id": "adf4f3cd-5283-47ed-8670-fabc12d9cf5f",
   "metadata": {},
   "outputs": [],
   "source": [
    "cities=[\"pune\",\"pune-deccan\",\"pune-SBroad\",\"pune-shivajinagar\",\"banglore \",\"chennai\",\"delhi\",\"ahmadnagar\",\"pune-wakad\",\"mumbai\"]"
   ]
  },
  {
   "cell_type": "code",
   "execution_count": 4,
   "id": "7d060ba1-9aa1-4f36-9dab-c9c095e6170b",
   "metadata": {},
   "outputs": [
    {
     "name": "stdout",
     "output_type": "stream",
     "text": [
      "Unique cities: ['chennai', 'mumbai', 'ahmadnagar', 'pune', 'banglore ', 'delhi']\n"
     ]
    }
   ],
   "source": [
    "split_cities = [city.split('-')[0] for city in cities]\n",
    "unique_cities = list(set(split_cities))\n",
    "print(\"Unique cities:\", unique_cities)"
   ]
  },
  {
   "cell_type": "code",
   "execution_count": null,
   "id": "11b4bf4b-32e7-4337-a74c-9ebfab35b2bf",
   "metadata": {},
   "outputs": [],
   "source": []
  },
  {
   "cell_type": "code",
   "execution_count": 10,
   "id": "c7c5ae6c-0ebc-47e0-b2fb-4432ae548cac",
   "metadata": {},
   "outputs": [
    {
     "name": "stdout",
     "output_type": "stream",
     "text": [
      "Unique cities: ['chennai', 'mumbai', 'ahmadnagar', 'pune', 'banglore ', 'delhi']\n"
     ]
    }
   ],
   "source": [
    "cities = map(lambda city: city.split('-')[0], cities)\n",
    "unique_cities = list(set(cities))\n",
    "\n",
    "print(\"Unique cities:\", unique_cities)"
   ]
  },
  {
   "cell_type": "code",
   "execution_count": null,
   "id": "ad4b6a29-8057-4251-8565-a46ec0aaafe1",
   "metadata": {},
   "outputs": [],
   "source": []
  },
  {
   "cell_type": "code",
   "execution_count": 22,
   "id": "765b9e74-cb4a-4585-a936-47c133e32074",
   "metadata": {},
   "outputs": [
    {
     "name": "stdout",
     "output_type": "stream",
     "text": [
      "['pune', 'banglore ', 'chennai', 'delhi', 'ahmadnagar', 'mumbai']\n"
     ]
    }
   ],
   "source": [
    "def unique_city(c):\n",
    "    unique = []\n",
    "    for city in c:\n",
    "        city_name = city.split('-')[0]\n",
    "        if city_name not in unique:\n",
    "            unique.append(city_name)\n",
    "    return unique\n",
    "\n",
    "result = unique_city(cities)\n",
    "print(result)"
   ]
  },
  {
   "cell_type": "code",
   "execution_count": null,
   "id": "84854b18-b708-40d9-9c18-50c9e655c1dd",
   "metadata": {},
   "outputs": [],
   "source": []
  },
  {
   "cell_type": "code",
   "execution_count": 35,
   "id": "e9090d62-2974-4643-a800-aa2936880fa1",
   "metadata": {},
   "outputs": [
    {
     "name": "stdout",
     "output_type": "stream",
     "text": [
      "['535', '534534', '53534', '35323']\n"
     ]
    }
   ],
   "source": [
    "p = ['px-535','px-534534','px-53534','px-35323']\n",
    "empid= map(lambda p: p.split('-')[1], p)\n",
    "split_id=list(empid)\n",
    "\n",
    "print(split_id)"
   ]
  },
  {
   "cell_type": "code",
   "execution_count": 29,
   "id": "b6c1ae43-21b3-4a5c-aafd-4cbcb05d60fa",
   "metadata": {},
   "outputs": [
    {
     "data": {
      "text/plain": [
       "<map at 0x2b83f16e350>"
      ]
     },
     "execution_count": 29,
     "metadata": {},
     "output_type": "execute_result"
    }
   ],
   "source": [
    "empid"
   ]
  },
  {
   "cell_type": "code",
   "execution_count": null,
   "id": "6ffd777e-331d-414e-8e74-76259ecc0222",
   "metadata": {},
   "outputs": [],
   "source": []
  },
  {
   "cell_type": "code",
   "execution_count": null,
   "id": "253a1352-06c6-4d78-8b41-82d8790d4fef",
   "metadata": {},
   "outputs": [],
   "source": []
  },
  {
   "cell_type": "code",
   "execution_count": 22,
   "id": "8b958dfa-3126-40b7-89fc-07bf67787104",
   "metadata": {},
   "outputs": [],
   "source": [
    "city = ['pune','mumbai','delhi','chennai','banglore','pune','mumbai']"
   ]
  },
  {
   "cell_type": "code",
   "execution_count": 24,
   "id": "d38652e6-32f5-4863-b54c-0a701202dfee",
   "metadata": {},
   "outputs": [
    {
     "name": "stdout",
     "output_type": "stream",
     "text": [
      "2\n"
     ]
    }
   ],
   "source": [
    "def city_encode(city):\n",
    "    if city == 'pune':\n",
    "        return 1\n",
    "    elif city == 'mumbai':\n",
    "        return 2\n",
    "    elif city == 'delhi':\n",
    "        return 3\n",
    "    elif city == 'chennai':\n",
    "        return 4\n",
    "    elif city == 'bangalore':\n",
    "        return 5\n",
    "    else:\n",
    "        return \"invalid\"\n",
    "\n",
    "\n",
    "print(city_encode('mumbai'))\n",
    "\n"
   ]
  },
  {
   "cell_type": "code",
   "execution_count": null,
   "id": "2c87bbcb-d5dd-4d36-a05f-fcd66389d979",
   "metadata": {},
   "outputs": [],
   "source": []
  },
  {
   "cell_type": "code",
   "execution_count": 33,
   "id": "46222433-d64e-4b45-9776-b60a133526ea",
   "metadata": {},
   "outputs": [
    {
     "name": "stdout",
     "output_type": "stream",
     "text": [
      "Select Operation:\n",
      "1. Add\n",
      "2. Subtract\n",
      "3. Divide\n",
      "4. Multiply\n"
     ]
    },
    {
     "name": "stdin",
     "output_type": "stream",
     "text": [
      "Enter the choice (1/2/3/4):  1\n",
      "Enter the 1st number:  55\n",
      "Enter the 2nd number:  24\n"
     ]
    },
    {
     "name": "stdout",
     "output_type": "stream",
     "text": [
      "55.0 + 24.0 = 79.0\n"
     ]
    }
   ],
   "source": [
    "# calculator \n",
    "\n",
    "def Add(x, y):\n",
    "    return x + y\n",
    "\n",
    "def subtract(x, y):\n",
    "    return x - y\n",
    "\n",
    "def divide(x, y):\n",
    "    if y == 0:\n",
    "        return \"Error! Division by zero.\"\n",
    "    else:\n",
    "        return x / y\n",
    "\n",
    "def multiply(x, y):\n",
    "    return x * y\n",
    "\n",
    "def calculator():\n",
    "    print(\"Select Operation:\")\n",
    "    print(\"1. Add\")\n",
    "    print(\"2. Subtract\")\n",
    "    print(\"3. Divide\")\n",
    "    print(\"4. Multiply\")\n",
    "\n",
    "    choice = input(\"Enter the choice (1/2/3/4): \")\n",
    "\n",
    "    if choice in ['1', '2', '3', '4']:\n",
    "        num1 = float(input(\"Enter the 1st number: \"))\n",
    "        num2 = float(input(\"Enter the 2nd number: \"))\n",
    "\n",
    "        if choice == '1':\n",
    "            print(f\"{num1} + {num2} = {Add(num1, num2)}\")\n",
    "        elif choice == '2':\n",
    "            print(f\"{num1} - {num2} = {subtract(num1, num2)}\")\n",
    "        elif choice == '3':\n",
    "            print(f\"{num1} / {num2} = {divide(num1, num2)}\")\n",
    "        elif choice == '4':\n",
    "            print(f\"{num1} * {num2} = {multiply(num1, num2)}\")\n",
    "    else:\n",
    "        print(\"Invalid input\")\n",
    "\n",
    "\n",
    "calculator() m                                                                                            mmm                                                            \n",
    "    "
   ]
  },
  {
   "cell_type": "code",
   "execution_count": null,
   "id": "010007fe-e42a-4bc4-a95e-b172e035c61f",
   "metadata": {},
   "outputs": [],
   "source": []
  },
  {
   "cell_type": "code",
   "execution_count": null,
   "id": "6de7b4eb-c93b-476c-9de6-b5756ff303d0",
   "metadata": {},
   "outputs": [],
   "source": []
  },
  {
   "cell_type": "code",
   "execution_count": null,
   "id": "34af6194-fe08-4a3d-af1c-5cd88687478e",
   "metadata": {},
   "outputs": [],
   "source": []
  },
  {
   "cell_type": "code",
   "execution_count": null,
   "id": "092e55a6-edbc-4c6a-bd9a-f42b877657b7",
   "metadata": {},
   "outputs": [],
   "source": []
  },
  {
   "cell_type": "code",
   "execution_count": null,
   "id": "00a21242-ced4-43b9-ba0a-67d14e2ab2e1",
   "metadata": {},
   "outputs": [],
   "source": []
  }
 ],
 "metadata": {
  "kernelspec": {
   "display_name": "Python 3 (ipykernel)",
   "language": "python",
   "name": "python3"
  },
  "language_info": {
   "codemirror_mode": {
    "name": "ipython",
    "version": 3
   },
   "file_extension": ".py",
   "mimetype": "text/x-python",
   "name": "python",
   "nbconvert_exporter": "python",
   "pygments_lexer": "ipython3",
   "version": "3.12.4"
  }
 },
 "nbformat": 4,
 "nbformat_minor": 5
}
